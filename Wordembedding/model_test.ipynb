{
 "cells": [
  {
   "cell_type": "code",
   "execution_count": 1,
   "id": "b87734cc-7945-4a0e-900d-8d4fd462b4ca",
   "metadata": {
    "tags": []
   },
   "outputs": [
    {
     "name": "stdout",
     "output_type": "stream",
     "text": [
      "Num GPUs Available:  1\n",
      "[name: \"/device:CPU:0\"\n",
      "device_type: \"CPU\"\n",
      "memory_limit: 268435456\n",
      "locality {\n",
      "}\n",
      "incarnation: 18325473303814470865\n",
      "xla_global_id: -1\n",
      ", name: \"/device:GPU:0\"\n",
      "device_type: \"GPU\"\n",
      "memory_limit: 22385000448\n",
      "locality {\n",
      "  bus_id: 1\n",
      "  links {\n",
      "  }\n",
      "}\n",
      "incarnation: 227024091505045796\n",
      "physical_device_desc: \"device: 0, name: NVIDIA GeForce RTX 4090, pci bus id: 0000:01:00.0, compute capability: 8.9\"\n",
      "xla_global_id: 416903419\n",
      "]\n",
      "2.10.1\n"
     ]
    }
   ],
   "source": [
    "import tensorflow as tf\n",
    "from tensorflow.python.client import device_lib\n",
    "\n",
    "print(\"Num GPUs Available: \", len(tf.config.list_physical_devices('GPU')))\n",
    "print(device_lib.list_local_devices())\n",
    "\n",
    "print(tf.__version__)"
   ]
  },
  {
   "cell_type": "code",
   "execution_count": 3,
   "id": "90dd679a-67a1-4094-89e2-a6d9ee8d8965",
   "metadata": {
    "tags": []
   },
   "outputs": [
    {
     "name": "stderr",
     "output_type": "stream",
     "text": [
      "C:\\Users\\ChangGeng\\anaconda3\\envs\\tf\\lib\\site-packages\\tqdm\\auto.py:21: TqdmWarning: IProgress not found. Please update jupyter and ipywidgets. See https://ipywidgets.readthedocs.io/en/stable/user_install.html\n",
      "  from .autonotebook import tqdm as notebook_tqdm\n"
     ]
    }
   ],
   "source": [
    "import pandas as pd\n",
    "import matplotlib.pyplot as plt\n",
    "import seaborn as sns\n",
    "import transformers \n",
    "from transformers import TFAutoModel, RobertaForSequenceClassification"
   ]
  },
  {
   "cell_type": "markdown",
   "id": "595a088b-f539-46d7-b4d9-941fc77d3138",
   "metadata": {},
   "source": [
    "**BERTopic**"
   ]
  },
  {
   "cell_type": "code",
   "execution_count": 5,
   "id": "1aeb93c9-da33-4d15-b3e3-45972cec7e15",
   "metadata": {
    "tags": []
   },
   "outputs": [
    {
     "data": {
      "text/html": [
       "<div>\n",
       "<style scoped>\n",
       "    .dataframe tbody tr th:only-of-type {\n",
       "        vertical-align: middle;\n",
       "    }\n",
       "\n",
       "    .dataframe tbody tr th {\n",
       "        vertical-align: top;\n",
       "    }\n",
       "\n",
       "    .dataframe thead th {\n",
       "        text-align: right;\n",
       "    }\n",
       "</style>\n",
       "<table border=\"1\" class=\"dataframe\">\n",
       "  <thead>\n",
       "    <tr style=\"text-align: right;\">\n",
       "      <th></th>\n",
       "      <th>Topic</th>\n",
       "      <th>Count</th>\n",
       "      <th>Name</th>\n",
       "      <th>Representation</th>\n",
       "      <th>Representative_Docs</th>\n",
       "    </tr>\n",
       "  </thead>\n",
       "  <tbody>\n",
       "    <tr>\n",
       "      <th>0</th>\n",
       "      <td>-1</td>\n",
       "      <td>633881</td>\n",
       "      <td>-1_cast_films_film_movie</td>\n",
       "      <td>[cast, films, film, movie, 2020, comedy, relea...</td>\n",
       "      <td>NaN</td>\n",
       "    </tr>\n",
       "    <tr>\n",
       "      <th>1</th>\n",
       "      <td>0</td>\n",
       "      <td>18441</td>\n",
       "      <td>0_goalscorer_scored_goals_goal</td>\n",
       "      <td>[goalscorer, scored, goals, goal, goalkeeper, ...</td>\n",
       "      <td>NaN</td>\n",
       "    </tr>\n",
       "    <tr>\n",
       "      <th>2</th>\n",
       "      <td>1</td>\n",
       "      <td>8518</td>\n",
       "      <td>1_khan_actor_raj_shah</td>\n",
       "      <td>[khan, actor, raj, shah, crore, hai, actress, ...</td>\n",
       "      <td>NaN</td>\n",
       "    </tr>\n",
       "  </tbody>\n",
       "</table>\n",
       "</div>"
      ],
      "text/plain": [
       "   Topic   Count                            Name  \\\n",
       "0     -1  633881        -1_cast_films_film_movie   \n",
       "1      0   18441  0_goalscorer_scored_goals_goal   \n",
       "2      1    8518           1_khan_actor_raj_shah   \n",
       "\n",
       "                                      Representation  Representative_Docs  \n",
       "0  [cast, films, film, movie, 2020, comedy, relea...                  NaN  \n",
       "1  [goalscorer, scored, goals, goal, goalkeeper, ...                  NaN  \n",
       "2  [khan, actor, raj, shah, crore, hai, actress, ...                  NaN  "
      ]
     },
     "execution_count": 5,
     "metadata": {},
     "output_type": "execute_result"
    }
   ],
   "source": [
    "from bertopic import BERTopic\n",
    "topic_model = BERTopic.load(\"MaartenGr/BERTopic_Wikipedia\")\n",
    "# topic_model.get_topic_info()\n",
    "df = pd.DataFrame(topic_model.get_topic_info())\n",
    "df.head(3)"
   ]
  },
  {
   "cell_type": "code",
   "execution_count": 6,
   "id": "b152c88f-8553-422f-8779-6b208b9e2537",
   "metadata": {
    "tags": []
   },
   "outputs": [
    {
     "data": {
      "text/html": [
       "<div>\n",
       "<style scoped>\n",
       "    .dataframe tbody tr th:only-of-type {\n",
       "        vertical-align: middle;\n",
       "    }\n",
       "\n",
       "    .dataframe tbody tr th {\n",
       "        vertical-align: top;\n",
       "    }\n",
       "\n",
       "    .dataframe thead th {\n",
       "        text-align: right;\n",
       "    }\n",
       "</style>\n",
       "<table border=\"1\" class=\"dataframe\">\n",
       "  <thead>\n",
       "    <tr style=\"text-align: right;\">\n",
       "      <th></th>\n",
       "      <th>Topic</th>\n",
       "      <th>Count</th>\n",
       "      <th>Name</th>\n",
       "      <th>Representation</th>\n",
       "      <th>Representative_Docs</th>\n",
       "    </tr>\n",
       "  </thead>\n",
       "  <tbody>\n",
       "    <tr>\n",
       "      <th>464</th>\n",
       "      <td>463</td>\n",
       "      <td>128</td>\n",
       "      <td>463_quantum_entanglement_entangled_decoherence</td>\n",
       "      <td>[quantum, entanglement, entangled, decoherence...</td>\n",
       "      <td>NaN</td>\n",
       "    </tr>\n",
       "    <tr>\n",
       "      <th>1117</th>\n",
       "      <td>1116</td>\n",
       "      <td>66</td>\n",
       "      <td>1116_philosopher_philosophers_philosophy_philo...</td>\n",
       "      <td>[philosopher, philosophers, philosophy, philos...</td>\n",
       "      <td>NaN</td>\n",
       "    </tr>\n",
       "    <tr>\n",
       "      <th>1136</th>\n",
       "      <td>1135</td>\n",
       "      <td>65</td>\n",
       "      <td>1135_mathematician_mathematicians_mathematics_...</td>\n",
       "      <td>[mathematician, mathematicians, mathematics, a...</td>\n",
       "      <td>NaN</td>\n",
       "    </tr>\n",
       "    <tr>\n",
       "      <th>1263</th>\n",
       "      <td>1262</td>\n",
       "      <td>60</td>\n",
       "      <td>1262_modularity_mathematician_conjecture_mathe...</td>\n",
       "      <td>[modularity, mathematician, conjecture, mathem...</td>\n",
       "      <td>NaN</td>\n",
       "    </tr>\n",
       "    <tr>\n",
       "      <th>1443</th>\n",
       "      <td>1442</td>\n",
       "      <td>53</td>\n",
       "      <td>1442_computing_analytical_mathematician_comput...</td>\n",
       "      <td>[computing, analytical, mathematician, computa...</td>\n",
       "      <td>NaN</td>\n",
       "    </tr>\n",
       "    <tr>\n",
       "      <th>1600</th>\n",
       "      <td>1599</td>\n",
       "      <td>48</td>\n",
       "      <td>1599_ancient_mathematician_philosophers_philos...</td>\n",
       "      <td>[ancient, mathematician, philosophers, philoso...</td>\n",
       "      <td>NaN</td>\n",
       "    </tr>\n",
       "    <tr>\n",
       "      <th>2033</th>\n",
       "      <td>2032</td>\n",
       "      <td>37</td>\n",
       "      <td>2032_mathematician_mathematicians_mathematics_...</td>\n",
       "      <td>[mathematician, mathematicians, mathematics, p...</td>\n",
       "      <td>NaN</td>\n",
       "    </tr>\n",
       "    <tr>\n",
       "      <th>2100</th>\n",
       "      <td>2099</td>\n",
       "      <td>36</td>\n",
       "      <td>2099_mathematician_mathematicians_hardy_mathem...</td>\n",
       "      <td>[mathematician, mathematicians, hardy, mathema...</td>\n",
       "      <td>NaN</td>\n",
       "    </tr>\n",
       "    <tr>\n",
       "      <th>2259</th>\n",
       "      <td>2258</td>\n",
       "      <td>32</td>\n",
       "      <td>2258_orbits_solutions_bodies_mathematical</td>\n",
       "      <td>[orbits, solutions, bodies, mathematical, grav...</td>\n",
       "      <td>NaN</td>\n",
       "    </tr>\n",
       "    <tr>\n",
       "      <th>2289</th>\n",
       "      <td>2288</td>\n",
       "      <td>32</td>\n",
       "      <td>2288_ibn_al_theology_treatises</td>\n",
       "      <td>[ibn, al, theology, treatises, ijtihad, treati...</td>\n",
       "      <td>NaN</td>\n",
       "    </tr>\n",
       "    <tr>\n",
       "      <th>2291</th>\n",
       "      <td>2290</td>\n",
       "      <td>32</td>\n",
       "      <td>2290_duo_app_mobile_android</td>\n",
       "      <td>[duo, app, mobile, android, proficiency, educa...</td>\n",
       "      <td>NaN</td>\n",
       "    </tr>\n",
       "  </tbody>\n",
       "</table>\n",
       "</div>"
      ],
      "text/plain": [
       "      Topic  Count                                               Name  \\\n",
       "464     463    128     463_quantum_entanglement_entangled_decoherence   \n",
       "1117   1116     66  1116_philosopher_philosophers_philosophy_philo...   \n",
       "1136   1135     65  1135_mathematician_mathematicians_mathematics_...   \n",
       "1263   1262     60  1262_modularity_mathematician_conjecture_mathe...   \n",
       "1443   1442     53  1442_computing_analytical_mathematician_comput...   \n",
       "1600   1599     48  1599_ancient_mathematician_philosophers_philos...   \n",
       "2033   2032     37  2032_mathematician_mathematicians_mathematics_...   \n",
       "2100   2099     36  2099_mathematician_mathematicians_hardy_mathem...   \n",
       "2259   2258     32          2258_orbits_solutions_bodies_mathematical   \n",
       "2289   2288     32                     2288_ibn_al_theology_treatises   \n",
       "2291   2290     32                        2290_duo_app_mobile_android   \n",
       "\n",
       "                                         Representation  Representative_Docs  \n",
       "464   [quantum, entanglement, entangled, decoherence...                  NaN  \n",
       "1117  [philosopher, philosophers, philosophy, philos...                  NaN  \n",
       "1136  [mathematician, mathematicians, mathematics, a...                  NaN  \n",
       "1263  [modularity, mathematician, conjecture, mathem...                  NaN  \n",
       "1443  [computing, analytical, mathematician, computa...                  NaN  \n",
       "1600  [ancient, mathematician, philosophers, philoso...                  NaN  \n",
       "2033  [mathematician, mathematicians, mathematics, p...                  NaN  \n",
       "2100  [mathematician, mathematicians, hardy, mathema...                  NaN  \n",
       "2259  [orbits, solutions, bodies, mathematical, grav...                  NaN  \n",
       "2289  [ibn, al, theology, treatises, ijtihad, treati...                  NaN  \n",
       "2291  [duo, app, mobile, android, proficiency, educa...                  NaN  "
      ]
     },
     "execution_count": 6,
     "metadata": {},
     "output_type": "execute_result"
    }
   ],
   "source": [
    "selected_df = df[df['Representation'].apply(lambda x: any('math' in item for item in x))]\n",
    "selected_df"
   ]
  },
  {
   "cell_type": "markdown",
   "id": "10cd1fe6-6759-45d7-8c03-2d0f13abcf30",
   "metadata": {},
   "source": [
    "**Mistral-7B-Instruct-v0.1**"
   ]
  },
  {
   "cell_type": "code",
   "execution_count": null,
   "id": "a17e4018-4681-4987-ad73-a657628824af",
   "metadata": {
    "tags": []
   },
   "outputs": [],
   "source": []
  },
  {
   "cell_type": "code",
   "execution_count": null,
   "id": "998e0ed7-94de-4e4f-bdc8-6692eab4007d",
   "metadata": {},
   "outputs": [],
   "source": []
  }
 ],
 "metadata": {
  "kernelspec": {
   "display_name": "tf",
   "language": "python",
   "name": "tf"
  },
  "language_info": {
   "codemirror_mode": {
    "name": "ipython",
    "version": 3
   },
   "file_extension": ".py",
   "mimetype": "text/x-python",
   "name": "python",
   "nbconvert_exporter": "python",
   "pygments_lexer": "ipython3",
   "version": "3.10.13"
  }
 },
 "nbformat": 4,
 "nbformat_minor": 5
}
